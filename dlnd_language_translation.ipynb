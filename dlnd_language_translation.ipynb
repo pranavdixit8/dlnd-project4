{
 "cells": [
  {
   "cell_type": "markdown",
   "metadata": {
    "collapsed": true
   },
   "source": [
    "# Language Translation\n",
    "In this project, you’re going to take a peek into the realm of neural network machine translation.  You’ll be training a sequence to sequence model on a dataset of English and French sentences that can translate new sentences from English to French.\n",
    "## Get the Data\n",
    "Since translating the whole language of English to French will take lots of time to train, we have provided you with a small portion of the English corpus."
   ]
  },
  {
   "cell_type": "code",
   "execution_count": 20,
   "metadata": {
    "collapsed": true
   },
   "outputs": [],
   "source": [
    "\"\"\"\n",
    "DON'T MODIFY ANYTHING IN THIS CELL\n",
    "\"\"\"\n",
    "import helper\n",
    "import problem_unittests as tests\n",
    "\n",
    "source_path = 'data/small_vocab_en'\n",
    "target_path = 'data/small_vocab_fr'\n",
    "source_text = helper.load_data(source_path)\n",
    "target_text = helper.load_data(target_path)"
   ]
  },
  {
   "cell_type": "markdown",
   "metadata": {},
   "source": [
    "## Explore the Data\n",
    "Play around with view_sentence_range to view different parts of the data."
   ]
  },
  {
   "cell_type": "code",
   "execution_count": 66,
   "metadata": {},
   "outputs": [
    {
     "name": "stdout",
     "output_type": "stream",
     "text": [
      "Dataset Stats\n",
      "Roughly the number of unique words: 227\n",
      "Number of sentences: 137861\n",
      "Average number of words in a sentence: 13.225277634719028\n",
      "\n",
      "English sentences 0 to 50:\n",
      "new jersey is sometimes quiet during autumn , and it is snowy in april .\n",
      "the united states is usually chilly during july , and it is usually freezing in november .\n",
      "california is usually quiet during march , and it is usually hot in june .\n",
      "the united states is sometimes mild during june , and it is cold in september .\n",
      "your least liked fruit is the grape , but my least liked is the apple .\n",
      "his favorite fruit is the orange , but my favorite is the grape .\n",
      "paris is relaxing during december , but it is usually chilly in july .\n",
      "new jersey is busy during spring , and it is never hot in march .\n",
      "our least liked fruit is the lemon , but my least liked is the grape .\n",
      "the united states is sometimes busy during january , and it is sometimes warm in november .\n",
      "the lime is her least liked fruit , but the banana is my least liked .\n",
      "he saw a old yellow truck .\n",
      "india is rainy during june , and it is sometimes warm in november .\n",
      "that cat was my most loved animal .\n",
      "he dislikes grapefruit , limes , and lemons .\n",
      "her least liked fruit is the lemon , but his least liked is the grapefruit .\n",
      "california is never cold during february , but it is sometimes freezing in june .\n",
      "china is usually pleasant during autumn , and it is usually quiet in october .\n",
      "paris is never freezing during november , but it is wonderful in october .\n",
      "the united states is never rainy during january , but it is sometimes mild in october .\n",
      "china is usually pleasant during november , and it is never quiet in october .\n",
      "the united states is never nice during february , but it is sometimes pleasant in april .\n",
      "india is never busy during autumn , and it is mild in spring .\n",
      "paris is mild during summer , but it is usually busy in april .\n",
      "france is never cold during september , and it is snowy in october .\n",
      "california is never cold during may , and it is sometimes chilly in march .\n",
      "he dislikes lemons , grapes , and mangoes.\n",
      "their favorite fruit is the mango , but our favorite is the pear .\n",
      "france is sometimes quiet during may , and it is never chilly in august .\n",
      "paris is never pleasant during september , and it is beautiful in autumn .\n",
      "he dislikes apples , peaches , and grapes .\n",
      "california is usually freezing during december , and it is busy in april .\n",
      "your most feared animal is that shark .\n",
      "paris is usually wet during august , and it is never dry in november .\n",
      "paris is usually beautiful during september , and it is usually snowy in november .\n",
      "the united states is never wet during january , but it is usually hot in october .\n",
      "we like oranges , mangoes , and grapes .\n",
      "they like pears , apples , and mangoes .\n",
      "she dislikes that little red truck .\n",
      "the grapefruit is my most loved fruit , but the banana is her most loved .\n",
      "france is snowy during may , and it is never busy in autumn .\n",
      "china is usually mild during winter , but it is never busy in february .\n",
      "china is never nice during july , but it is usually snowy in spring .\n",
      "california is busy during november , but it is rainy in autumn .\n",
      "china is warm during spring , and it is sometimes cold in february .\n",
      "california is usually beautiful during winter , but it is never busy in february .\n",
      "france is wonderful during november , but it is sometimes hot in september .\n",
      "india is usually pleasant during november , but it is never relaxing in july .\n",
      "the united states is never freezing during autumn , but it is never busy in june .\n",
      "paris is sometimes warm during june , but it is usually hot in july .\n",
      "\n",
      "French sentences 0 to 50:\n",
      "new jersey est parfois calme pendant l' automne , et il est neigeux en avril .\n",
      "les états-unis est généralement froid en juillet , et il gèle habituellement en novembre .\n",
      "california est généralement calme en mars , et il est généralement chaud en juin .\n",
      "les états-unis est parfois légère en juin , et il fait froid en septembre .\n",
      "votre moins aimé fruit est le raisin , mais mon moins aimé est la pomme .\n",
      "son fruit préféré est l'orange , mais mon préféré est le raisin .\n",
      "paris est relaxant en décembre , mais il est généralement froid en juillet .\n",
      "new jersey est occupé au printemps , et il est jamais chaude en mars .\n",
      "notre fruit est moins aimé le citron , mais mon moins aimé est le raisin .\n",
      "les états-unis est parfois occupé en janvier , et il est parfois chaud en novembre .\n",
      "la chaux est son moins aimé des fruits , mais la banane est mon moins aimé.\n",
      "il a vu un vieux camion jaune .\n",
      "inde est pluvieux en juin , et il est parfois chaud en novembre .\n",
      "ce chat était mon animal le plus aimé .\n",
      "il n'aime pamplemousse , citrons verts et les citrons .\n",
      "son fruit est moins aimé le citron , mais son moins aimé est le pamplemousse .\n",
      "californie ne fait jamais froid en février , mais il est parfois le gel en juin .\n",
      "chine est généralement agréable en automne , et il est généralement calme en octobre .\n",
      "paris est jamais le gel en novembre , mais il est merveilleux en octobre .\n",
      "les états-unis est jamais pluvieux en janvier , mais il est parfois doux en octobre .\n",
      "chine est généralement agréable en novembre , et il est jamais tranquille en octobre .\n",
      "les états-unis est jamais agréable en février , mais il est parfois agréable en avril .\n",
      "l' inde est jamais occupé à l'automne , et il est doux au printemps .\n",
      "paris est doux pendant l' été , mais il est généralement occupé en avril .\n",
      "france ne fait jamais froid en septembre , et il est neigeux en octobre .\n",
      "californie ne fait jamais froid au mois de mai , et il est parfois frisquet en mars .\n",
      "il déteste les citrons , les raisins et les mangues .\n",
      "leur fruit préféré est la mangue , mais notre préféré est la poire .\n",
      "la france est parfois calme au mois de mai , et il est jamais froid en août .\n",
      "paris est jamais agréable en septembre , et il est beau à l' automne .\n",
      "il déteste les pommes , les pêches et les raisins .\n",
      "la californie est le gel habituellement en décembre , et il est occupé en avril .\n",
      "votre animal le plus redouté est que le requin .\n",
      "paris est généralement humide au mois d' août , et il est jamais sec en novembre .\n",
      "paris est généralement beau en septembre , et il est généralement enneigée en novembre .\n",
      "les états-unis est jamais humide en janvier , mais il est généralement chaud en octobre .\n",
      "nous aimons les oranges , les mangues et les raisins .\n",
      "ils aiment les poires , les pommes et les mangues .\n",
      "elle déteste ce petit camion rouge .\n",
      "le pamplemousse est mon fruit le plus cher , mais la banane est la plus aimée .\n",
      "la france est la neige au mois de mai , et il est jamais trop de monde à l' automne .\n",
      "chine est généralement doux pendant l' hiver , mais il est jamais occupé en février .\n",
      "chine est jamais agréable en juillet , mais il est généralement enneigée au printemps .\n",
      "californie est occupé au mois de novembre , mais il est pluvieux à l' automne .\n",
      "chine est chaud au printemps , et il est parfois froid en février .\n",
      "californie est généralement beau pendant l' hiver , mais il est jamais occupé en février .\n",
      "france est merveilleux au mois de novembre , mais il est parfois chaud en septembre .\n",
      "l' inde est généralement agréable en novembre , mais il est jamais relaxant en juillet .\n",
      "les états-unis ne sont jamais gel pendant l' automne , mais il est jamais occupé en juin .\n",
      "paris est parfois chaud en juin , mais il est généralement chaud en juillet .\n"
     ]
    }
   ],
   "source": [
    "view_sentence_range = (0, 50)\n",
    "\n",
    "\"\"\"\n",
    "DON'T MODIFY ANYTHING IN THIS CELL\n",
    "\"\"\"\n",
    "import numpy as np\n",
    "\n",
    "print('Dataset Stats')\n",
    "print('Roughly the number of unique words: {}'.format(len({word: None for word in source_text.split()})))\n",
    "\n",
    "sentences = source_text.split('\\n')\n",
    "word_counts = [len(sentence.split()) for sentence in sentences]\n",
    "print('Number of sentences: {}'.format(len(sentences)))\n",
    "print('Average number of words in a sentence: {}'.format(np.average(word_counts)))\n",
    "\n",
    "print()\n",
    "print('English sentences {} to {}:'.format(*view_sentence_range))\n",
    "print('\\n'.join(source_text.split('\\n')[view_sentence_range[0]:view_sentence_range[1]]))\n",
    "print()\n",
    "print('French sentences {} to {}:'.format(*view_sentence_range))\n",
    "print('\\n'.join(target_text.split('\\n')[view_sentence_range[0]:view_sentence_range[1]]))"
   ]
  },
  {
   "cell_type": "markdown",
   "metadata": {},
   "source": [
    "## Implement Preprocessing Function\n",
    "### Text to Word Ids\n",
    "As you did with other RNNs, you must turn the text into a number so the computer can understand it. In the function `text_to_ids()`, you'll turn `source_text` and `target_text` from words to ids.  However, you need to add the `<EOS>` word id at the end of `target_text`.  This will help the neural network predict when the sentence should end.\n",
    "\n",
    "You can get the `<EOS>` word id by doing:\n",
    "```python\n",
    "target_vocab_to_int['<EOS>']\n",
    "```\n",
    "You can get other word ids using `source_vocab_to_int` and `target_vocab_to_int`."
   ]
  },
  {
   "cell_type": "code",
   "execution_count": 64,
   "metadata": {},
   "outputs": [
    {
     "name": "stdout",
     "output_type": "stream",
     "text": [
      "Tests Passed\n"
     ]
    }
   ],
   "source": [
    "def text_to_ids(source_text, target_text, source_vocab_to_int, target_vocab_to_int):\n",
    "    \"\"\"\n",
    "    Convert source and target text to proper word ids\n",
    "    :param source_text: String that contains all the source text.\n",
    "    :param target_text: String that contains all the target text.\n",
    "    :param source_vocab_to_int: Dictionary to go from the source words to an id\n",
    "    :param target_vocab_to_int: Dictionary to go from the target words to an id\n",
    "    :return: A tuple of lists (source_id_text, target_id_text)\n",
    "    \"\"\"\n",
    "    # TODO: Implement Function\n",
    "    \n",
    "    \n",
    "    \n",
    "    source_id_text = [ [source_vocab_to_int[word] for word in sentence.split()] for sentence in source_text.split(\"\\n\")]\n",
    "    target_id_text = [[target_vocab_to_int[word] for word in sentence.split() ] + [target_vocab_to_int[\"<EOS>\"]] for sentence in target_text.split(\"\\n\")]\n",
    "    #print(source_text)\n",
    "    #print(source_id_text)\n",
    "    #print(source_vocab_to_int)\n",
    "    #print(target_text)\n",
    "    #print(target_id_text)\n",
    "    #print(target_vocab_to_int)\n",
    "    return source_id_text, target_id_text\n",
    "\n",
    "\"\"\"\n",
    "DON'T MODIFY ANYTHING IN THIS CELL THAT IS BELOW THIS LINE\n",
    "\"\"\"\n",
    "tests.test_text_to_ids(text_to_ids)"
   ]
  },
  {
   "cell_type": "markdown",
   "metadata": {},
   "source": [
    "### Preprocess all the data and save it\n",
    "Running the code cell below will preprocess all the data and save it to file."
   ]
  },
  {
   "cell_type": "code",
   "execution_count": 23,
   "metadata": {
    "collapsed": true
   },
   "outputs": [],
   "source": [
    "\"\"\"\n",
    "DON'T MODIFY ANYTHING IN THIS CELL\n",
    "\"\"\"\n",
    "helper.preprocess_and_save_data(source_path, target_path, text_to_ids)"
   ]
  },
  {
   "cell_type": "markdown",
   "metadata": {},
   "source": [
    "# Check Point\n",
    "This is your first checkpoint. If you ever decide to come back to this notebook or have to restart the notebook, you can start from here. The preprocessed data has been saved to disk."
   ]
  },
  {
   "cell_type": "code",
   "execution_count": 24,
   "metadata": {
    "collapsed": true
   },
   "outputs": [],
   "source": [
    "\"\"\"\n",
    "DON'T MODIFY ANYTHING IN THIS CELL\n",
    "\"\"\"\n",
    "import numpy as np\n",
    "import helper\n",
    "import problem_unittests as tests\n",
    "\n",
    "(source_int_text, target_int_text), (source_vocab_to_int, target_vocab_to_int), _ = helper.load_preprocess()"
   ]
  },
  {
   "cell_type": "markdown",
   "metadata": {},
   "source": [
    "### Check the Version of TensorFlow and Access to GPU\n",
    "This will check to make sure you have the correct version of TensorFlow and access to a GPU"
   ]
  },
  {
   "cell_type": "code",
   "execution_count": 65,
   "metadata": {},
   "outputs": [
    {
     "name": "stdout",
     "output_type": "stream",
     "text": [
      "TensorFlow Version: 1.1.0\n",
      "Default GPU Device: /gpu:0\n"
     ]
    }
   ],
   "source": [
    "\"\"\"\n",
    "DON'T MODIFY ANYTHING IN THIS CELL\n",
    "\"\"\"\n",
    "from distutils.version import LooseVersion\n",
    "import warnings\n",
    "import tensorflow as tf\n",
    "from tensorflow.python.layers.core import Dense\n",
    "\n",
    "# Check TensorFlow Version\n",
    "assert LooseVersion(tf.__version__) >= LooseVersion('1.1'), 'Please use TensorFlow version 1.1 or newer'\n",
    "print('TensorFlow Version: {}'.format(tf.__version__))\n",
    "\n",
    "# Check for a GPU\n",
    "if not tf.test.gpu_device_name():\n",
    "    warnings.warn('No GPU found. Please use a GPU to train your neural network.')\n",
    "else:\n",
    "    print('Default GPU Device: {}'.format(tf.test.gpu_device_name()))"
   ]
  },
  {
   "cell_type": "markdown",
   "metadata": {},
   "source": [
    "## Build the Neural Network\n",
    "You'll build the components necessary to build a Sequence-to-Sequence model by implementing the following functions below:\n",
    "- `model_inputs`\n",
    "- `process_decoder_input`\n",
    "- `encoding_layer`\n",
    "- `decoding_layer_train`\n",
    "- `decoding_layer_infer`\n",
    "- `decoding_layer`\n",
    "- `seq2seq_model`\n",
    "\n",
    "### Input\n",
    "Implement the `model_inputs()` function to create TF Placeholders for the Neural Network. It should create the following placeholders:\n",
    "\n",
    "- Input text placeholder named \"input\" using the TF Placeholder name parameter with rank 2.\n",
    "- Targets placeholder with rank 2.\n",
    "- Learning rate placeholder with rank 0.\n",
    "- Keep probability placeholder named \"keep_prob\" using the TF Placeholder name parameter with rank 0.\n",
    "- Target sequence length placeholder named \"target_sequence_length\" with rank 1\n",
    "- Max target sequence length tensor named \"max_target_len\" getting its value from applying tf.reduce_max on the target_sequence_length placeholder. Rank 0.\n",
    "- Source sequence length placeholder named \"source_sequence_length\" with rank 1\n",
    "\n",
    "Return the placeholders in the following the tuple (input, targets, learning rate, keep probability, target sequence length, max target sequence length, source sequence length)"
   ]
  },
  {
   "cell_type": "code",
   "execution_count": 67,
   "metadata": {},
   "outputs": [
    {
     "name": "stdout",
     "output_type": "stream",
     "text": [
      "Tests Passed\n"
     ]
    }
   ],
   "source": [
    "def model_inputs():\n",
    "    \"\"\"\n",
    "    Create TF Placeholders for input, targets, learning rate, and lengths of source and target sequences.\n",
    "    :return: Tuple (input, targets, learning rate, keep probability, target sequence length,\n",
    "    max target sequence length, source sequence length)\n",
    "    \"\"\"\n",
    "    # TODO: Implement Function\n",
    "    \n",
    "    inputs = tf.placeholder(tf.int32,[None,None],name = 'input')\n",
    "    targets = tf.placeholder(tf.int32,[None,None], name = 'targets')\n",
    "    \n",
    "    \n",
    "    learning_rate=tf.placeholder(tf.float32)\n",
    "    keep_prob = tf.placeholder(tf.float32, name = 'keep_prob')\n",
    "    \n",
    "    src_seq_length=tf.placeholder(tf.int32,(None,),name = 'source_sequence_length')\n",
    "    tgt_seq_length=tf.placeholder(tf.int32, (None,), name = 'target_sequence_length')\n",
    "    max_tgt_length= tf.reduce_max(tgt_seq_length, name = 'max_target_len')\n",
    "    \n",
    "    return inputs, targets, learning_rate, keep_prob, tgt_seq_length, max_tgt_length, src_seq_length\n",
    "\n",
    "\n",
    "\"\"\"\n",
    "DON'T MODIFY ANYTHING IN THIS CELL THAT IS BELOW THIS LINE\n",
    "\"\"\"\n",
    "tests.test_model_inputs(model_inputs)"
   ]
  },
  {
   "cell_type": "markdown",
   "metadata": {},
   "source": [
    "### Process Decoder Input\n",
    "Implement `process_decoder_input` by removing the last word id from each batch in `target_data` and concat the GO ID to the begining of each batch."
   ]
  },
  {
   "cell_type": "code",
   "execution_count": 68,
   "metadata": {},
   "outputs": [
    {
     "name": "stdout",
     "output_type": "stream",
     "text": [
      "Tests Passed\n"
     ]
    }
   ],
   "source": [
    "def process_decoder_input(target_data, target_vocab_to_int, batch_size):\n",
    "    \"\"\"\n",
    "    Preprocess target data for encoding\n",
    "    :param target_data: Target Placehoder\n",
    "    :param target_vocab_to_int: Dictionary to go from the target words to an id\n",
    "    :param batch_size: Batch Size\n",
    "    :return: Preprocessed target data\n",
    "    \"\"\"\n",
    "    # TODO: Implement Function\n",
    "    \n",
    "    sliced_data = tf.strided_slice(target_data,[0,0],[batch_size,-1],[1,1])\n",
    "    \n",
    "    processed_data = tf.concat([tf.fill([batch_size, 1], target_vocab_to_int['<GO>']), sliced_data], 1)\n",
    "    \n",
    "    return processed_data\n",
    "\n",
    "\"\"\"\n",
    "DON'T MODIFY ANYTHING IN THIS CELL THAT IS BELOW THIS LINE\n",
    "\"\"\"\n",
    "tests.test_process_encoding_input(process_decoder_input)"
   ]
  },
  {
   "cell_type": "markdown",
   "metadata": {},
   "source": [
    "### Encoding\n",
    "Implement `encoding_layer()` to create a Encoder RNN layer:\n",
    " * Embed the encoder input using [`tf.contrib.layers.embed_sequence`](https://www.tensorflow.org/api_docs/python/tf/contrib/layers/embed_sequence)\n",
    " * Construct a [stacked](https://github.com/tensorflow/tensorflow/blob/6947f65a374ebf29e74bb71e36fd82760056d82c/tensorflow/docs_src/tutorials/recurrent.md#stacking-multiple-lstms) [`tf.contrib.rnn.LSTMCell`](https://www.tensorflow.org/api_docs/python/tf/contrib/rnn/LSTMCell) wrapped in a [`tf.contrib.rnn.DropoutWrapper`](https://www.tensorflow.org/api_docs/python/tf/contrib/rnn/DropoutWrapper)\n",
    " * Pass cell and embedded input to [`tf.nn.dynamic_rnn()`](https://www.tensorflow.org/api_docs/python/tf/nn/dynamic_rnn)"
   ]
  },
  {
   "cell_type": "code",
   "execution_count": 69,
   "metadata": {
    "scrolled": false
   },
   "outputs": [
    {
     "name": "stdout",
     "output_type": "stream",
     "text": [
      "Tests Passed\n"
     ]
    }
   ],
   "source": [
    "from imp import reload\n",
    "reload(tests)\n",
    "\n",
    "def encoding_layer(rnn_inputs, rnn_size, num_layers, keep_prob, \n",
    "                   source_sequence_length, source_vocab_size, \n",
    "                   encoding_embedding_size):\n",
    "    \"\"\"\n",
    "    Create encoding layer\n",
    "    :param rnn_inputs: Inputs for the RNN\n",
    "    :param rnn_size: RNN Size\n",
    "    :param num_layers: Number of layers\n",
    "    :param keep_prob: Dropout keep probability\n",
    "    :param source_sequence_length: a list of the lengths of each sequence in the batch\n",
    "    :param source_vocab_size: vocabulary size of source data\n",
    "    :param encoding_embedding_size: embedding size of source data\n",
    "    :return: tuple (RNN output, RNN state)\n",
    "    \"\"\"\n",
    "    # TODO: Implement Function\n",
    "    \n",
    "    embed_inputs = tf.contrib.layers.embed_sequence(rnn_inputs, source_vocab_size, encoding_embedding_size)\n",
    "    \n",
    "    #cell  = tf.contrib.rnn.LSTMCell(rnn_size,initializer=tf.random_uniform_initializer(-0.1, 0.1, seed=2))\n",
    "    \n",
    "    def make_cell(rnn_size):\n",
    "        \n",
    "        cell = tf.contrib.rnn.LSTMCell(rnn_size,\n",
    "                                           initializer=tf.truncated_normal_initializer(-0.1, 0.1, seed=2))\n",
    "        return cell \n",
    "    \n",
    "    encoder_cell =  tf.contrib.rnn.MultiRNNCell([make_cell(rnn_size) for i in range(num_layers)])\n",
    "    \n",
    "    encoder_output, encoder_state = tf.nn.dynamic_rnn(encoder_cell, embed_inputs, sequence_length=source_sequence_length, dtype=tf.float32)\n",
    "    \n",
    "    \n",
    "    \n",
    "    return encoder_output, encoder_state\n",
    "\n",
    "\"\"\"\n",
    "DON'T MODIFY ANYTHING IN THIS CELL THAT IS BELOW THIS LINE\n",
    "\"\"\"\n",
    "tests.test_encoding_layer(encoding_layer)"
   ]
  },
  {
   "cell_type": "markdown",
   "metadata": {},
   "source": [
    "### Decoding - Training\n",
    "Create a training decoding layer:\n",
    "* Create a [`tf.contrib.seq2seq.TrainingHelper`](https://www.tensorflow.org/api_docs/python/tf/contrib/seq2seq/TrainingHelper) \n",
    "* Create a [`tf.contrib.seq2seq.BasicDecoder`](https://www.tensorflow.org/api_docs/python/tf/contrib/seq2seq/BasicDecoder)\n",
    "* Obtain the decoder outputs from [`tf.contrib.seq2seq.dynamic_decode`](https://www.tensorflow.org/api_docs/python/tf/contrib/seq2seq/dynamic_decode)"
   ]
  },
  {
   "cell_type": "code",
   "execution_count": 70,
   "metadata": {},
   "outputs": [
    {
     "name": "stdout",
     "output_type": "stream",
     "text": [
      "Tests Passed\n"
     ]
    }
   ],
   "source": [
    "\n",
    "def decoding_layer_train(encoder_state, dec_cell, dec_embed_input, \n",
    "                         target_sequence_length, max_summary_length, \n",
    "                         output_layer, keep_prob):\n",
    "    \"\"\"\n",
    "    Create a decoding layer for training\n",
    "    :param encoder_state: Encoder State\n",
    "    :param dec_cell: Decoder RNN Cell\n",
    "    :param dec_embed_input: Decoder embedded input\n",
    "    :param target_sequence_length: The lengths of each sequence in the target batch\n",
    "    :param max_summary_length: The length of the longest sequence in the batch\n",
    "    :param output_layer: Function to apply the output layer\n",
    "    :param keep_prob: Dropout keep probability\n",
    "    :return: BasicDecoderOutput containing training logits and sample_id\n",
    "    \"\"\"\n",
    "    # TODO: Implement Function\n",
    "    \n",
    "    \n",
    "    training_helper = tf.contrib.seq2seq.TrainingHelper(inputs=dec_embed_input,sequence_length=target_sequence_length,time_major=False)\n",
    "        \n",
    "    training_decoder = tf.contrib.seq2seq.BasicDecoder(dec_cell,training_helper,encoder_state,output_layer) \n",
    "        \n",
    "    \n",
    "    training_decoder_output = tf.contrib.seq2seq.dynamic_decode(training_decoder,impute_finished=True,maximum_iterations=max_summary_length)[0]\n",
    "\n",
    "    \n",
    "    \n",
    "    \n",
    "    return training_decoder_output\n",
    "\n",
    "\n",
    "\n",
    "\"\"\"\n",
    "DON'T MODIFY ANYTHING IN THIS CELL THAT IS BELOW THIS LINE\n",
    "\"\"\"\n",
    "tests.test_decoding_layer_train(decoding_layer_train)"
   ]
  },
  {
   "cell_type": "markdown",
   "metadata": {},
   "source": [
    "### Decoding - Inference\n",
    "Create inference decoder:\n",
    "* Create a [`tf.contrib.seq2seq.GreedyEmbeddingHelper`](https://www.tensorflow.org/api_docs/python/tf/contrib/seq2seq/GreedyEmbeddingHelper)\n",
    "* Create a [`tf.contrib.seq2seq.BasicDecoder`](https://www.tensorflow.org/api_docs/python/tf/contrib/seq2seq/BasicDecoder)\n",
    "* Obtain the decoder outputs from [`tf.contrib.seq2seq.dynamic_decode`](https://www.tensorflow.org/api_docs/python/tf/contrib/seq2seq/dynamic_decode)"
   ]
  },
  {
   "cell_type": "code",
   "execution_count": 71,
   "metadata": {
    "scrolled": true
   },
   "outputs": [
    {
     "name": "stdout",
     "output_type": "stream",
     "text": [
      "Tests Passed\n"
     ]
    }
   ],
   "source": [
    "def decoding_layer_infer(encoder_state, dec_cell, dec_embeddings, start_of_sequence_id,\n",
    "                         end_of_sequence_id, max_target_sequence_length,\n",
    "                         vocab_size,output_layer, batch_size, keep_prob):\n",
    "    \"\"\"\n",
    "    Create a decoding layer for inference\n",
    "    :param encoder_state: Encoder state\n",
    "    :param dec_cell: Decoder RNN Cell\n",
    "    :param dec_embeddings: Decoder embeddings\n",
    "    :param start_of_sequence_id: GO ID\n",
    "    :param end_of_sequence_id: EOS Id\n",
    "    :param max_target_sequence_length: Maximum length of target sequences\n",
    "    :param vocab_size: Size of decoder/target vocabulary\n",
    "    :param decoding_scope: TenorFlow Variable Scope for decoding\n",
    "    :param output_layer: Function to apply the output layer\n",
    "    :param batch_size: Batch size\n",
    "    :param keep_prob: Dropout keep probability\n",
    "    :return: BasicDecoderOutput containing inference logits and sample_id\n",
    "    \"\"\"\n",
    "    # TODO: Implement Function\n",
    "\n",
    "\n",
    "\n",
    "    start_tokens = tf.tile(tf.constant([start_of_sequence_id], dtype=tf.int32), [batch_size], name='start_tokens')\n",
    "\n",
    "    inference_helper = tf.contrib.seq2seq.GreedyEmbeddingHelper(dec_embeddings,start_tokens,end_of_sequence_id)\n",
    "\n",
    "    \n",
    "    inference_decoder = tf.contrib.seq2seq.BasicDecoder(dec_cell,inference_helper,encoder_state,output_layer)\n",
    "        \n",
    "    \n",
    "    inference_decoder_output = tf.contrib.seq2seq.dynamic_decode(inference_decoder,impute_finished=True,maximum_iterations=max_target_sequence_length)[0]\n",
    "    \n",
    "    \n",
    "    return inference_decoder_output\n",
    "\n",
    "\n",
    "\n",
    "\"\"\"\n",
    "DON'T MODIFY ANYTHING IN THIS CELL THAT IS BELOW THIS LINE\n",
    "\"\"\"\n",
    "tests.test_decoding_layer_infer(decoding_layer_infer)"
   ]
  },
  {
   "cell_type": "markdown",
   "metadata": {},
   "source": [
    "### Build the Decoding Layer\n",
    "Implement `decoding_layer()` to create a Decoder RNN layer.\n",
    "\n",
    "* Embed the target sequences\n",
    "* Construct the decoder LSTM cell (just like you constructed the encoder cell above)\n",
    "* Create an output layer to map the outputs of the decoder to the elements of our vocabulary\n",
    "* Use the your `decoding_layer_train(encoder_state, dec_cell, dec_embed_input, target_sequence_length, max_target_sequence_length, output_layer, keep_prob)` function to get the training logits.\n",
    "* Use your `decoding_layer_infer(encoder_state, dec_cell, dec_embeddings, start_of_sequence_id, end_of_sequence_id, max_target_sequence_length, vocab_size, output_layer, batch_size, keep_prob)` function to get the inference logits.\n",
    "\n",
    "Note: You'll need to use [tf.variable_scope](https://www.tensorflow.org/api_docs/python/tf/variable_scope) to share variables between training and inference."
   ]
  },
  {
   "cell_type": "code",
   "execution_count": 72,
   "metadata": {},
   "outputs": [
    {
     "name": "stdout",
     "output_type": "stream",
     "text": [
      "Tests Passed\n"
     ]
    }
   ],
   "source": [
    "def decoding_layer(dec_input, encoder_state,\n",
    "                   target_sequence_length, max_target_sequence_length,\n",
    "                   rnn_size,\n",
    "                   num_layers, target_vocab_to_int, target_vocab_size,\n",
    "                   batch_size, keep_prob, decoding_embedding_size):\n",
    "    \"\"\"\n",
    "    Create decoding layer\n",
    "    :param dec_input: Decoder input\n",
    "    :param encoder_state: Encoder state\n",
    "    :param target_sequence_length: The lengths of each sequence in the target batch\n",
    "    :param max_target_sequence_length: Maximum length of target sequences\n",
    "    :param rnn_size: RNN Size\n",
    "    :param num_layers: Number of layers\n",
    "    :param target_vocab_to_int: Dictionary to go from the target words to an id\n",
    "    :param target_vocab_size: Size of target vocabulary\n",
    "    :param batch_size: The size of the batch\n",
    "    :param keep_prob: Dropout keep probability\n",
    "    :param decoding_embedding_size: Decoding embedding size\n",
    "    :return: Tuple of (Training BasicDecoderOutput, Inference BasicDecoderOutput)\n",
    "    \"\"\"\n",
    "    # TODO: Implement Function\n",
    "    \n",
    "\n",
    "    dec_embeddings = tf.Variable(tf.random_uniform([target_vocab_size, decoding_embedding_size]))\n",
    "    dec_embed_input = tf.nn.embedding_lookup(dec_embeddings, dec_input)\n",
    "\n",
    "\n",
    "    #cell = tf.contrib.rnn.LSTMCell(rnn_size,initializer=tf.random_uniform_initializer(-0.1, 0.1, seed=2))\n",
    "    \n",
    "    def make_cell(rnn_size):\n",
    "        cell = tf.contrib.rnn.LSTMCell(rnn_size,initializer=tf.truncated_normal_initializer(-0.1, 0.1, seed=2))\n",
    "        return cell \n",
    "    \n",
    "    decoder_cell = tf.contrib.rnn.MultiRNNCell([make_cell(rnn_size) for _ in range(num_layers)])\n",
    "     \n",
    "    \n",
    "    output_layer = Dense(target_vocab_size,kernel_initializer = tf.truncated_normal_initializer(mean = 0.0, stddev=0.1))\n",
    "    \n",
    "    with tf.variable_scope(\"decode\") as decoding_scope:\n",
    "        training_decoder_output = decoding_layer_train(encoder_state, decoder_cell, dec_embed_input, target_sequence_length, max_target_sequence_length, output_layer, keep_prob)\n",
    "    \n",
    "    #tf.get_variable_scope().reuse_variables()\n",
    "    with tf.variable_scope(\"decode\", reuse = True) as decoding_scope:\n",
    "        inference_decoder_output = decoding_layer_infer(encoder_state, decoder_cell, dec_embeddings, target_vocab_to_int['<GO>'], target_vocab_to_int['<EOS>'], max_target_sequence_length, target_vocab_size, output_layer, batch_size, keep_prob)\n",
    "    \n",
    "    \n",
    "    return training_decoder_output, inference_decoder_output\n",
    "\n",
    "\n",
    "\n",
    "\n",
    "\n",
    "\n",
    "\"\"\"\n",
    "DON'T MODIFY ANYTHING IN THIS CELL THAT IS BELOW THIS LINE\n",
    "\"\"\"\n",
    "tests.test_decoding_layer(decoding_layer)"
   ]
  },
  {
   "cell_type": "markdown",
   "metadata": {},
   "source": [
    "### Build the Neural Network\n",
    "Apply the functions you implemented above to:\n",
    "\n",
    "- Encode the input using your `encoding_layer(rnn_inputs, rnn_size, num_layers, keep_prob,  source_sequence_length, source_vocab_size, encoding_embedding_size)`.\n",
    "- Process target data using your `process_decoder_input(target_data, target_vocab_to_int, batch_size)` function.\n",
    "- Decode the encoded input using your `decoding_layer(dec_input, enc_state, target_sequence_length, max_target_sentence_length, rnn_size, num_layers, target_vocab_to_int, target_vocab_size, batch_size, keep_prob, dec_embedding_size)` function."
   ]
  },
  {
   "cell_type": "code",
   "execution_count": 73,
   "metadata": {},
   "outputs": [
    {
     "name": "stdout",
     "output_type": "stream",
     "text": [
      "Tests Passed\n"
     ]
    }
   ],
   "source": [
    "def seq2seq_model(input_data, target_data, keep_prob, batch_size,\n",
    "                  source_sequence_length, target_sequence_length,\n",
    "                  max_target_sentence_length,\n",
    "                  source_vocab_size, target_vocab_size,\n",
    "                  enc_embedding_size, dec_embedding_size,\n",
    "                  rnn_size, num_layers, target_vocab_to_int):\n",
    "    \"\"\"\n",
    "    Build the Sequence-to-Sequence part of the neural network\n",
    "    :param input_data: Input placeholder\n",
    "    :param target_data: Target placeholder\n",
    "    :param keep_prob: Dropout keep probability placeholder\n",
    "    :param batch_size: Batch Size\n",
    "    :param source_sequence_length: Sequence Lengths of source sequences in the batch\n",
    "    :param target_sequence_length: Sequence Lengths of target sequences in the batch\n",
    "    :param source_vocab_size: Source vocabulary size\n",
    "    :param target_vocab_size: Target vocabulary size\n",
    "    :param enc_embedding_size: Decoder embedding size\n",
    "    :param dec_embedding_size: Encoder embedding size\n",
    "    :param rnn_size: RNN Size\n",
    "    :param num_layers: Number of layers\n",
    "    :param target_vocab_to_int: Dictionary to go from the target words to an id\n",
    "    :return: Tuple of (Training BasicDecoderOutput, Inference BasicDecoderOutput)\n",
    "    \"\"\"\n",
    "    # TODO: Implement Function\n",
    "    \n",
    "    _,encoder_state = encoding_layer(input_data, rnn_size, num_layers, keep_prob,  source_sequence_length, source_vocab_size, enc_embedding_size)\n",
    "    \n",
    "    \n",
    "    decoder_input = process_decoder_input(target_data, target_vocab_to_int, batch_size)\n",
    "    \n",
    "    training_decoder_output, inference_decoder_output = decoding_layer(decoder_input, encoder_state, target_sequence_length, max_target_sentence_length, rnn_size, num_layers, target_vocab_to_int, target_vocab_size, batch_size, keep_prob, dec_embedding_size)\n",
    "    \n",
    "    return training_decoder_output, inference_decoder_output\n",
    "\n",
    "\n",
    "\"\"\"\n",
    "DON'T MODIFY ANYTHING IN THIS CELL THAT IS BELOW THIS LINE\n",
    "\"\"\"\n",
    "tests.test_seq2seq_model(seq2seq_model)"
   ]
  },
  {
   "cell_type": "markdown",
   "metadata": {},
   "source": [
    "## Neural Network Training\n",
    "### Hyperparameters\n",
    "Tune the following parameters:\n",
    "\n",
    "- Set `epochs` to the number of epochs.\n",
    "- Set `batch_size` to the batch size.\n",
    "- Set `rnn_size` to the size of the RNNs.\n",
    "- Set `num_layers` to the number of layers.\n",
    "- Set `encoding_embedding_size` to the size of the embedding for the encoder.\n",
    "- Set `decoding_embedding_size` to the size of the embedding for the decoder.\n",
    "- Set `learning_rate` to the learning rate.\n",
    "- Set `keep_probability` to the Dropout keep probability\n",
    "- Set `display_step` to state how many steps between each debug output statement"
   ]
  },
  {
   "cell_type": "code",
   "execution_count": 75,
   "metadata": {
    "collapsed": true
   },
   "outputs": [],
   "source": [
    "# Number of Epochs\n",
    "epochs = 5\n",
    "# Batch Size\n",
    "batch_size = 256\n",
    "# RNN Size\n",
    "rnn_size = 128\n",
    "# Number of Layers\n",
    "num_layers = 4\n",
    "# Embedding Size\n",
    "encoding_embedding_size = 128\n",
    "decoding_embedding_size = 128\n",
    "# Learning Rate\n",
    "learning_rate = 0.001\n",
    "# Dropout Keep Probability\n",
    "keep_probability = 0.6\n",
    "display_step = 20"
   ]
  },
  {
   "cell_type": "markdown",
   "metadata": {},
   "source": [
    "### Build the Graph\n",
    "Build the graph using the neural network you implemented."
   ]
  },
  {
   "cell_type": "code",
   "execution_count": 76,
   "metadata": {
    "collapsed": true
   },
   "outputs": [],
   "source": [
    "\"\"\"\n",
    "DON'T MODIFY ANYTHING IN THIS CELL\n",
    "\"\"\"\n",
    "save_path = 'checkpoints/dev'\n",
    "(source_int_text, target_int_text), (source_vocab_to_int, target_vocab_to_int), _ = helper.load_preprocess()\n",
    "max_target_sentence_length = max([len(sentence) for sentence in source_int_text])\n",
    "\n",
    "train_graph = tf.Graph()\n",
    "with train_graph.as_default():\n",
    "    input_data, targets, lr, keep_prob, target_sequence_length, max_target_sequence_length, source_sequence_length = model_inputs()\n",
    "\n",
    "    #sequence_length = tf.placeholder_with_default(max_target_sentence_length, None, name='sequence_length')\n",
    "    input_shape = tf.shape(input_data)\n",
    "\n",
    "    train_logits, inference_logits = seq2seq_model(tf.reverse(input_data, [-1]),\n",
    "                                                   targets,\n",
    "                                                   keep_prob,\n",
    "                                                   batch_size,\n",
    "                                                   source_sequence_length,\n",
    "                                                   target_sequence_length,\n",
    "                                                   max_target_sequence_length,\n",
    "                                                   len(source_vocab_to_int),\n",
    "                                                   len(target_vocab_to_int),\n",
    "                                                   encoding_embedding_size,\n",
    "                                                   decoding_embedding_size,\n",
    "                                                   rnn_size,\n",
    "                                                   num_layers,\n",
    "                                                   target_vocab_to_int)\n",
    "\n",
    "\n",
    "    training_logits = tf.identity(train_logits.rnn_output, name='logits')\n",
    "    inference_logits = tf.identity(inference_logits.sample_id, name='predictions')\n",
    "\n",
    "    masks = tf.sequence_mask(target_sequence_length, max_target_sequence_length, dtype=tf.float32, name='masks')\n",
    "\n",
    "    with tf.name_scope(\"optimization\"):\n",
    "        # Loss function\n",
    "        cost = tf.contrib.seq2seq.sequence_loss(\n",
    "            training_logits,\n",
    "            targets,\n",
    "            masks)\n",
    "\n",
    "        # Optimizer\n",
    "        optimizer = tf.train.AdamOptimizer(lr)\n",
    "\n",
    "        # Gradient Clipping\n",
    "        gradients = optimizer.compute_gradients(cost)\n",
    "        capped_gradients = [(tf.clip_by_value(grad, -1., 1.), var) for grad, var in gradients if grad is not None]\n",
    "        train_op = optimizer.apply_gradients(capped_gradients)\n"
   ]
  },
  {
   "cell_type": "markdown",
   "metadata": {},
   "source": [
    "Batch and pad the source and target sequences"
   ]
  },
  {
   "cell_type": "code",
   "execution_count": 77,
   "metadata": {
    "collapsed": true
   },
   "outputs": [],
   "source": [
    "\"\"\"\n",
    "DON'T MODIFY ANYTHING IN THIS CELL\n",
    "\"\"\"\n",
    "def pad_sentence_batch(sentence_batch, pad_int):\n",
    "    \"\"\"Pad sentences with <PAD> so that each sentence of a batch has the same length\"\"\"\n",
    "    max_sentence = max([len(sentence) for sentence in sentence_batch])\n",
    "    return [sentence + [pad_int] * (max_sentence - len(sentence)) for sentence in sentence_batch]\n",
    "\n",
    "\n",
    "def get_batches(sources, targets, batch_size, source_pad_int, target_pad_int):\n",
    "    \"\"\"Batch targets, sources, and the lengths of their sentences together\"\"\"\n",
    "    for batch_i in range(0, len(sources)//batch_size):\n",
    "        start_i = batch_i * batch_size\n",
    "\n",
    "        # Slice the right amount for the batch\n",
    "        sources_batch = sources[start_i:start_i + batch_size]\n",
    "        targets_batch = targets[start_i:start_i + batch_size]\n",
    "\n",
    "        # Pad\n",
    "        pad_sources_batch = np.array(pad_sentence_batch(sources_batch, source_pad_int))\n",
    "        pad_targets_batch = np.array(pad_sentence_batch(targets_batch, target_pad_int))\n",
    "\n",
    "        # Need the lengths for the _lengths parameters\n",
    "        pad_targets_lengths = []\n",
    "        for target in pad_targets_batch:\n",
    "            pad_targets_lengths.append(len(target))\n",
    "\n",
    "        pad_source_lengths = []\n",
    "        for source in pad_sources_batch:\n",
    "            pad_source_lengths.append(len(source))\n",
    "\n",
    "        yield pad_sources_batch, pad_targets_batch, pad_source_lengths, pad_targets_lengths\n"
   ]
  },
  {
   "cell_type": "markdown",
   "metadata": {},
   "source": [
    "### Train\n",
    "Train the neural network on the preprocessed data. If you have a hard time getting a good loss, check the forms to see if anyone is having the same problem."
   ]
  },
  {
   "cell_type": "code",
   "execution_count": 78,
   "metadata": {
    "scrolled": true
   },
   "outputs": [
    {
     "name": "stdout",
     "output_type": "stream",
     "text": [
      "Epoch   0 Batch   20/538 - Train Accuracy: 0.2238, Validation Accuracy: 0.2656, Loss: 5.5802\n",
      "Epoch   0 Batch   40/538 - Train Accuracy: 0.2752, Validation Accuracy: 0.2848, Loss: 5.2379\n",
      "Epoch   0 Batch   60/538 - Train Accuracy: 0.2371, Validation Accuracy: 0.3161, Loss: 4.8843\n",
      "Epoch   0 Batch   80/538 - Train Accuracy: 0.2705, Validation Accuracy: 0.3462, Loss: 3.5394\n",
      "Epoch   0 Batch  100/538 - Train Accuracy: 0.3123, Validation Accuracy: 0.3761, Loss: 3.1565\n",
      "Epoch   0 Batch  120/538 - Train Accuracy: 0.3246, Validation Accuracy: 0.3931, Loss: 3.0092\n",
      "Epoch   0 Batch  140/538 - Train Accuracy: 0.3385, Validation Accuracy: 0.4011, Loss: 2.9416\n",
      "Epoch   0 Batch  160/538 - Train Accuracy: 0.3629, Validation Accuracy: 0.4075, Loss: 2.7299\n",
      "Epoch   0 Batch  180/538 - Train Accuracy: 0.3832, Validation Accuracy: 0.4100, Loss: 2.6458\n",
      "Epoch   0 Batch  200/538 - Train Accuracy: 0.3727, Validation Accuracy: 0.4290, Loss: 2.6999\n",
      "Epoch   0 Batch  220/538 - Train Accuracy: 0.3979, Validation Accuracy: 0.4418, Loss: 2.5387\n",
      "Epoch   0 Batch  240/538 - Train Accuracy: 0.4125, Validation Accuracy: 0.4668, Loss: 2.5106\n",
      "Epoch   0 Batch  260/538 - Train Accuracy: 0.4276, Validation Accuracy: 0.4666, Loss: 2.3860\n",
      "Epoch   0 Batch  280/538 - Train Accuracy: 0.4422, Validation Accuracy: 0.4739, Loss: 2.2721\n",
      "Epoch   0 Batch  300/538 - Train Accuracy: 0.4438, Validation Accuracy: 0.4718, Loss: 2.2911\n",
      "Epoch   0 Batch  320/538 - Train Accuracy: 0.4382, Validation Accuracy: 0.4702, Loss: 2.2814\n",
      "Epoch   0 Batch  340/538 - Train Accuracy: 0.4020, Validation Accuracy: 0.4750, Loss: 2.3667\n",
      "Epoch   0 Batch  360/538 - Train Accuracy: 0.4211, Validation Accuracy: 0.4792, Loss: 2.3464\n",
      "Epoch   0 Batch  380/538 - Train Accuracy: 0.4234, Validation Accuracy: 0.4817, Loss: 2.2742\n",
      "Epoch   0 Batch  400/538 - Train Accuracy: 0.4492, Validation Accuracy: 0.4828, Loss: 2.2195\n",
      "Epoch   0 Batch  420/538 - Train Accuracy: 0.4336, Validation Accuracy: 0.4837, Loss: 2.2574\n",
      "Epoch   0 Batch  440/538 - Train Accuracy: 0.4266, Validation Accuracy: 0.4824, Loss: 2.3238\n",
      "Epoch   0 Batch  460/538 - Train Accuracy: 0.4453, Validation Accuracy: 0.4810, Loss: 2.2323\n",
      "Epoch   0 Batch  480/538 - Train Accuracy: 0.4580, Validation Accuracy: 0.4890, Loss: 2.1677\n",
      "Epoch   0 Batch  500/538 - Train Accuracy: 0.4716, Validation Accuracy: 0.4925, Loss: 2.1111\n",
      "Epoch   0 Batch  520/538 - Train Accuracy: 0.4270, Validation Accuracy: 0.4854, Loss: 2.2411\n",
      "Epoch   1 Batch   20/538 - Train Accuracy: 0.4340, Validation Accuracy: 0.4730, Loss: 2.2084\n",
      "Epoch   1 Batch   40/538 - Train Accuracy: 0.4698, Validation Accuracy: 0.4707, Loss: 2.2343\n",
      "Epoch   1 Batch   60/538 - Train Accuracy: 0.4154, Validation Accuracy: 0.4735, Loss: 2.3174\n",
      "Epoch   1 Batch   80/538 - Train Accuracy: 0.4195, Validation Accuracy: 0.4780, Loss: 2.2971\n",
      "Epoch   1 Batch  100/538 - Train Accuracy: 0.4420, Validation Accuracy: 0.4904, Loss: 2.1578\n",
      "Epoch   1 Batch  120/538 - Train Accuracy: 0.4398, Validation Accuracy: 0.4982, Loss: 2.1575\n",
      "Epoch   1 Batch  140/538 - Train Accuracy: 0.4336, Validation Accuracy: 0.4950, Loss: 2.2581\n",
      "Epoch   1 Batch  160/538 - Train Accuracy: 0.4574, Validation Accuracy: 0.4998, Loss: 2.0699\n",
      "Epoch   1 Batch  180/538 - Train Accuracy: 0.4808, Validation Accuracy: 0.5021, Loss: 2.0092\n",
      "Epoch   1 Batch  200/538 - Train Accuracy: 0.4533, Validation Accuracy: 0.5025, Loss: 2.0814\n",
      "Epoch   1 Batch  220/538 - Train Accuracy: 0.4697, Validation Accuracy: 0.5032, Loss: 2.0408\n",
      "Epoch   1 Batch  240/538 - Train Accuracy: 0.4596, Validation Accuracy: 0.5085, Loss: 2.0470\n",
      "Epoch   1 Batch  260/538 - Train Accuracy: 0.4619, Validation Accuracy: 0.5091, Loss: 2.0430\n",
      "Epoch   1 Batch  280/538 - Train Accuracy: 0.4907, Validation Accuracy: 0.5131, Loss: 1.9492\n",
      "Epoch   1 Batch  300/538 - Train Accuracy: 0.4840, Validation Accuracy: 0.5146, Loss: 1.9448\n",
      "Epoch   1 Batch  320/538 - Train Accuracy: 0.5033, Validation Accuracy: 0.5222, Loss: 1.9493\n",
      "Epoch   1 Batch  340/538 - Train Accuracy: 0.4408, Validation Accuracy: 0.5131, Loss: 2.0518\n",
      "Epoch   1 Batch  360/538 - Train Accuracy: 0.4768, Validation Accuracy: 0.5263, Loss: 1.9897\n",
      "Epoch   1 Batch  380/538 - Train Accuracy: 0.4844, Validation Accuracy: 0.5286, Loss: 1.9353\n",
      "Epoch   1 Batch  400/538 - Train Accuracy: 0.4874, Validation Accuracy: 0.5233, Loss: 1.8955\n",
      "Epoch   1 Batch  420/538 - Train Accuracy: 0.4789, Validation Accuracy: 0.5206, Loss: 1.9211\n",
      "Epoch   1 Batch  440/538 - Train Accuracy: 0.4350, Validation Accuracy: 0.4936, Loss: 2.0933\n",
      "Epoch   1 Batch  460/538 - Train Accuracy: 0.4810, Validation Accuracy: 0.5176, Loss: 1.9617\n",
      "Epoch   1 Batch  480/538 - Train Accuracy: 0.4940, Validation Accuracy: 0.5165, Loss: 1.8677\n",
      "Epoch   1 Batch  500/538 - Train Accuracy: 0.5206, Validation Accuracy: 0.5309, Loss: 1.7726\n",
      "Epoch   1 Batch  520/538 - Train Accuracy: 0.4803, Validation Accuracy: 0.5282, Loss: 1.8952\n",
      "Epoch   2 Batch   20/538 - Train Accuracy: 0.5074, Validation Accuracy: 0.5309, Loss: 1.8381\n",
      "Epoch   2 Batch   40/538 - Train Accuracy: 0.5595, Validation Accuracy: 0.5373, Loss: 1.6504\n",
      "Epoch   2 Batch   60/538 - Train Accuracy: 0.5039, Validation Accuracy: 0.5392, Loss: 1.8043\n",
      "Epoch   2 Batch   80/538 - Train Accuracy: 0.4787, Validation Accuracy: 0.5373, Loss: 1.9161\n",
      "Epoch   2 Batch  100/538 - Train Accuracy: 0.4979, Validation Accuracy: 0.5369, Loss: 1.8135\n",
      "Epoch   2 Batch  120/538 - Train Accuracy: 0.5029, Validation Accuracy: 0.5293, Loss: 1.8101\n",
      "Epoch   2 Batch  140/538 - Train Accuracy: 0.4779, Validation Accuracy: 0.5375, Loss: 1.9274\n",
      "Epoch   2 Batch  160/538 - Train Accuracy: 0.5130, Validation Accuracy: 0.5487, Loss: 1.7538\n",
      "Epoch   2 Batch  180/538 - Train Accuracy: 0.5285, Validation Accuracy: 0.5398, Loss: 1.8002\n",
      "Epoch   2 Batch  200/538 - Train Accuracy: 0.5238, Validation Accuracy: 0.5474, Loss: 1.7531\n",
      "Epoch   2 Batch  220/538 - Train Accuracy: 0.5130, Validation Accuracy: 0.5499, Loss: 1.7586\n",
      "Epoch   2 Batch  240/538 - Train Accuracy: 0.5088, Validation Accuracy: 0.5483, Loss: 1.7382\n",
      "Epoch   2 Batch  260/538 - Train Accuracy: 0.5162, Validation Accuracy: 0.5483, Loss: 1.7386\n",
      "Epoch   2 Batch  280/538 - Train Accuracy: 0.5294, Validation Accuracy: 0.5463, Loss: 1.7197\n",
      "Epoch   2 Batch  300/538 - Train Accuracy: 0.5326, Validation Accuracy: 0.5483, Loss: 1.6880\n",
      "Epoch   2 Batch  320/538 - Train Accuracy: 0.5340, Validation Accuracy: 0.5526, Loss: 1.7096\n",
      "Epoch   2 Batch  340/538 - Train Accuracy: 0.4863, Validation Accuracy: 0.5481, Loss: 1.8032\n",
      "Epoch   2 Batch  360/538 - Train Accuracy: 0.5211, Validation Accuracy: 0.5549, Loss: 1.7379\n",
      "Epoch   2 Batch  380/538 - Train Accuracy: 0.5080, Validation Accuracy: 0.5533, Loss: 1.7200\n",
      "Epoch   2 Batch  400/538 - Train Accuracy: 0.5253, Validation Accuracy: 0.5490, Loss: 1.6548\n",
      "Epoch   2 Batch  420/538 - Train Accuracy: 0.5277, Validation Accuracy: 0.5545, Loss: 1.6778\n",
      "Epoch   2 Batch  440/538 - Train Accuracy: 0.5152, Validation Accuracy: 0.5561, Loss: 1.7265\n",
      "Epoch   2 Batch  460/538 - Train Accuracy: 0.5247, Validation Accuracy: 0.5499, Loss: 1.6936\n",
      "Epoch   2 Batch  480/538 - Train Accuracy: 0.5485, Validation Accuracy: 0.5561, Loss: 1.6471\n",
      "Epoch   2 Batch  500/538 - Train Accuracy: 0.5589, Validation Accuracy: 0.5559, Loss: 1.5989\n",
      "Epoch   2 Batch  520/538 - Train Accuracy: 0.5014, Validation Accuracy: 0.5446, Loss: 1.7649\n",
      "Epoch   3 Batch   20/538 - Train Accuracy: 0.5249, Validation Accuracy: 0.5455, Loss: 1.6868\n",
      "Epoch   3 Batch   40/538 - Train Accuracy: 0.5785, Validation Accuracy: 0.5485, Loss: 1.5092\n",
      "Epoch   3 Batch   60/538 - Train Accuracy: 0.5301, Validation Accuracy: 0.5426, Loss: 1.6535\n",
      "Epoch   3 Batch   80/538 - Train Accuracy: 0.5039, Validation Accuracy: 0.5533, Loss: 1.7299\n",
      "Epoch   3 Batch  100/538 - Train Accuracy: 0.5248, Validation Accuracy: 0.5591, Loss: 1.6467\n",
      "Epoch   3 Batch  120/538 - Train Accuracy: 0.5215, Validation Accuracy: 0.5501, Loss: 1.6547\n",
      "Epoch   3 Batch  140/538 - Train Accuracy: 0.5072, Validation Accuracy: 0.5623, Loss: 1.7723\n",
      "Epoch   3 Batch  160/538 - Train Accuracy: 0.4959, Validation Accuracy: 0.5305, Loss: 1.7718\n",
      "Epoch   3 Batch  180/538 - Train Accuracy: 0.5205, Validation Accuracy: 0.5289, Loss: 1.7144\n",
      "Epoch   3 Batch  200/538 - Train Accuracy: 0.5162, Validation Accuracy: 0.5439, Loss: 1.7216\n",
      "Epoch   3 Batch  220/538 - Train Accuracy: 0.5113, Validation Accuracy: 0.5511, Loss: 1.7000\n"
     ]
    },
    {
     "name": "stdout",
     "output_type": "stream",
     "text": [
      "Epoch   3 Batch  240/538 - Train Accuracy: 0.5186, Validation Accuracy: 0.5529, Loss: 1.7135\n",
      "Epoch   3 Batch  260/538 - Train Accuracy: 0.5257, Validation Accuracy: 0.5604, Loss: 1.6920\n",
      "Epoch   3 Batch  280/538 - Train Accuracy: 0.5551, Validation Accuracy: 0.5668, Loss: 1.5812\n",
      "Epoch   3 Batch  300/538 - Train Accuracy: 0.5370, Validation Accuracy: 0.5568, Loss: 1.6527\n",
      "Epoch   3 Batch  320/538 - Train Accuracy: 0.5363, Validation Accuracy: 0.5524, Loss: 1.7242\n",
      "Epoch   3 Batch  340/538 - Train Accuracy: 0.4945, Validation Accuracy: 0.5550, Loss: 1.7568\n",
      "Epoch   3 Batch  360/538 - Train Accuracy: 0.5188, Validation Accuracy: 0.5652, Loss: 1.6926\n",
      "Epoch   3 Batch  380/538 - Train Accuracy: 0.5102, Validation Accuracy: 0.5600, Loss: 1.6990\n",
      "Epoch   3 Batch  400/538 - Train Accuracy: 0.5229, Validation Accuracy: 0.5499, Loss: 1.6587\n",
      "Epoch   3 Batch  420/538 - Train Accuracy: 0.5225, Validation Accuracy: 0.5522, Loss: 1.6489\n",
      "Epoch   3 Batch  440/538 - Train Accuracy: 0.5164, Validation Accuracy: 0.5609, Loss: 1.6988\n",
      "Epoch   3 Batch  460/538 - Train Accuracy: 0.5419, Validation Accuracy: 0.5714, Loss: 1.5931\n",
      "Epoch   3 Batch  480/538 - Train Accuracy: 0.5800, Validation Accuracy: 0.5769, Loss: 1.5448\n",
      "Epoch   3 Batch  500/538 - Train Accuracy: 0.5781, Validation Accuracy: 0.5778, Loss: 1.4721\n",
      "Epoch   3 Batch  520/538 - Train Accuracy: 0.5535, Validation Accuracy: 0.5838, Loss: 1.5379\n",
      "Epoch   4 Batch   20/538 - Train Accuracy: 0.5632, Validation Accuracy: 0.5835, Loss: 1.4986\n",
      "Epoch   4 Batch   40/538 - Train Accuracy: 0.6071, Validation Accuracy: 0.5891, Loss: 1.3553\n",
      "Epoch   4 Batch   60/538 - Train Accuracy: 0.5713, Validation Accuracy: 0.5895, Loss: 1.4571\n",
      "Epoch   4 Batch   80/538 - Train Accuracy: 0.5455, Validation Accuracy: 0.5898, Loss: 1.5564\n",
      "Epoch   4 Batch  100/538 - Train Accuracy: 0.5682, Validation Accuracy: 0.5925, Loss: 1.4805\n",
      "Epoch   4 Batch  120/538 - Train Accuracy: 0.5707, Validation Accuracy: 0.5932, Loss: 1.4550\n",
      "Epoch   4 Batch  140/538 - Train Accuracy: 0.5367, Validation Accuracy: 0.5914, Loss: 1.6114\n",
      "Epoch   4 Batch  160/538 - Train Accuracy: 0.5642, Validation Accuracy: 0.5934, Loss: 1.4800\n",
      "Epoch   4 Batch  180/538 - Train Accuracy: 0.5943, Validation Accuracy: 0.5906, Loss: 1.4172\n",
      "Epoch   4 Batch  200/538 - Train Accuracy: 0.5584, Validation Accuracy: 0.5854, Loss: 1.5224\n",
      "Epoch   4 Batch  220/538 - Train Accuracy: 0.5376, Validation Accuracy: 0.5776, Loss: 1.6107\n",
      "Epoch   4 Batch  240/538 - Train Accuracy: 0.5451, Validation Accuracy: 0.5833, Loss: 1.5434\n",
      "Epoch   4 Batch  260/538 - Train Accuracy: 0.5606, Validation Accuracy: 0.5835, Loss: 1.5258\n",
      "Epoch   4 Batch  280/538 - Train Accuracy: 0.5776, Validation Accuracy: 0.5838, Loss: 1.4669\n",
      "Epoch   4 Batch  300/538 - Train Accuracy: 0.5701, Validation Accuracy: 0.5817, Loss: 1.4934\n",
      "Epoch   4 Batch  320/538 - Train Accuracy: 0.5766, Validation Accuracy: 0.5874, Loss: 1.4808\n",
      "Epoch   4 Batch  340/538 - Train Accuracy: 0.5426, Validation Accuracy: 0.5866, Loss: 1.5451\n",
      "Epoch   4 Batch  360/538 - Train Accuracy: 0.5594, Validation Accuracy: 0.5934, Loss: 1.4919\n",
      "Epoch   4 Batch  380/538 - Train Accuracy: 0.5570, Validation Accuracy: 0.5984, Loss: 1.4686\n",
      "Epoch   4 Batch  400/538 - Train Accuracy: 0.5658, Validation Accuracy: 0.5939, Loss: 1.4409\n",
      "Epoch   4 Batch  420/538 - Train Accuracy: 0.5758, Validation Accuracy: 0.6033, Loss: 1.4335\n",
      "Epoch   4 Batch  440/538 - Train Accuracy: 0.5727, Validation Accuracy: 0.5969, Loss: 1.4442\n",
      "Epoch   4 Batch  460/538 - Train Accuracy: 0.5616, Validation Accuracy: 0.5994, Loss: 1.4807\n",
      "Epoch   4 Batch  480/538 - Train Accuracy: 0.5958, Validation Accuracy: 0.5980, Loss: 1.4059\n",
      "Epoch   4 Batch  500/538 - Train Accuracy: 0.5978, Validation Accuracy: 0.6021, Loss: 1.3599\n",
      "Epoch   4 Batch  520/538 - Train Accuracy: 0.5719, Validation Accuracy: 0.6023, Loss: 1.4085\n",
      "Model Trained and Saved\n"
     ]
    }
   ],
   "source": [
    "\"\"\"\n",
    "DON'T MODIFY ANYTHING IN THIS CELL\n",
    "\"\"\"\n",
    "def get_accuracy(target, logits):\n",
    "    \"\"\"\n",
    "    Calculate accuracy\n",
    "    \"\"\"\n",
    "    max_seq = max(target.shape[1], logits.shape[1])\n",
    "    if max_seq - target.shape[1]:\n",
    "        target = np.pad(\n",
    "            target,\n",
    "            [(0,0),(0,max_seq - target.shape[1])],\n",
    "            'constant')\n",
    "    if max_seq - logits.shape[1]:\n",
    "        logits = np.pad(\n",
    "            logits,\n",
    "            [(0,0),(0,max_seq - logits.shape[1])],\n",
    "            'constant')\n",
    "\n",
    "    return np.mean(np.equal(target, logits))\n",
    "\n",
    "# Split data to training and validation sets\n",
    "train_source = source_int_text[batch_size:]\n",
    "train_target = target_int_text[batch_size:]\n",
    "valid_source = source_int_text[:batch_size]\n",
    "valid_target = target_int_text[:batch_size]\n",
    "(valid_sources_batch, valid_targets_batch, valid_sources_lengths, valid_targets_lengths ) = next(get_batches(valid_source,\n",
    "                                                                                                             valid_target,\n",
    "                                                                                                             batch_size,\n",
    "                                                                                                             source_vocab_to_int['<PAD>'],\n",
    "                                                                                                             target_vocab_to_int['<PAD>']))                                                                                                  \n",
    "with tf.Session(graph=train_graph) as sess:\n",
    "    sess.run(tf.global_variables_initializer())\n",
    "\n",
    "    for epoch_i in range(epochs):\n",
    "        for batch_i, (source_batch, target_batch, sources_lengths, targets_lengths) in enumerate(\n",
    "                get_batches(train_source, train_target, batch_size,\n",
    "                            source_vocab_to_int['<PAD>'],\n",
    "                            target_vocab_to_int['<PAD>'])):\n",
    "\n",
    "            _, loss = sess.run(\n",
    "                [train_op, cost],\n",
    "                {input_data: source_batch,\n",
    "                 targets: target_batch,\n",
    "                 lr: learning_rate,\n",
    "                 target_sequence_length: targets_lengths,\n",
    "                 source_sequence_length: sources_lengths,\n",
    "                 keep_prob: keep_probability})\n",
    "\n",
    "\n",
    "            if batch_i % display_step == 0 and batch_i > 0:\n",
    "\n",
    "\n",
    "                batch_train_logits = sess.run(\n",
    "                    inference_logits,\n",
    "                    {input_data: source_batch,\n",
    "                     source_sequence_length: sources_lengths,\n",
    "                     target_sequence_length: targets_lengths,\n",
    "                     keep_prob: 1.0})\n",
    "\n",
    "\n",
    "                batch_valid_logits = sess.run(\n",
    "                    inference_logits,\n",
    "                    {input_data: valid_sources_batch,\n",
    "                     source_sequence_length: valid_sources_lengths,\n",
    "                     target_sequence_length: valid_targets_lengths,\n",
    "                     keep_prob: 1.0})\n",
    "\n",
    "                train_acc = get_accuracy(target_batch, batch_train_logits)\n",
    "\n",
    "                valid_acc = get_accuracy(valid_targets_batch, batch_valid_logits)\n",
    "\n",
    "                print('Epoch {:>3} Batch {:>4}/{} - Train Accuracy: {:>6.4f}, Validation Accuracy: {:>6.4f}, Loss: {:>6.4f}'\n",
    "                      .format(epoch_i, batch_i, len(source_int_text) // batch_size, train_acc, valid_acc, loss))\n",
    "\n",
    "    # Save Model\n",
    "    saver = tf.train.Saver()\n",
    "    saver.save(sess, save_path)\n",
    "    print('Model Trained and Saved')"
   ]
  },
  {
   "cell_type": "markdown",
   "metadata": {},
   "source": [
    "### Save Parameters\n",
    "Save the `batch_size` and `save_path` parameters for inference."
   ]
  },
  {
   "cell_type": "code",
   "execution_count": 79,
   "metadata": {
    "collapsed": true
   },
   "outputs": [],
   "source": [
    "\"\"\"\n",
    "DON'T MODIFY ANYTHING IN THIS CELL\n",
    "\"\"\"\n",
    "# Save parameters for checkpoint\n",
    "helper.save_params(save_path)"
   ]
  },
  {
   "cell_type": "markdown",
   "metadata": {},
   "source": [
    "# Checkpoint"
   ]
  },
  {
   "cell_type": "code",
   "execution_count": 80,
   "metadata": {
    "collapsed": true
   },
   "outputs": [],
   "source": [
    "\"\"\"\n",
    "DON'T MODIFY ANYTHING IN THIS CELL\n",
    "\"\"\"\n",
    "import tensorflow as tf\n",
    "import numpy as np\n",
    "import helper\n",
    "import problem_unittests as tests\n",
    "\n",
    "_, (source_vocab_to_int, target_vocab_to_int), (source_int_to_vocab, target_int_to_vocab) = helper.load_preprocess()\n",
    "load_path = helper.load_params()"
   ]
  },
  {
   "cell_type": "markdown",
   "metadata": {},
   "source": [
    "## Sentence to Sequence\n",
    "To feed a sentence into the model for translation, you first need to preprocess it.  Implement the function `sentence_to_seq()` to preprocess new sentences.\n",
    "\n",
    "- Convert the sentence to lowercase\n",
    "- Convert words into ids using `vocab_to_int`\n",
    " - Convert words not in the vocabulary, to the `<UNK>` word id."
   ]
  },
  {
   "cell_type": "code",
   "execution_count": 81,
   "metadata": {},
   "outputs": [
    {
     "name": "stdout",
     "output_type": "stream",
     "text": [
      "Tests Passed\n"
     ]
    }
   ],
   "source": [
    "def sentence_to_seq(sentence, vocab_to_int):\n",
    "    \"\"\"\n",
    "    Convert a sentence to a sequence of ids\n",
    "    :param sentence: String\n",
    "    :param vocab_to_int: Dictionary to go from the words to an id\n",
    "    :return: List of word ids\n",
    "    \"\"\"\n",
    "    # TODO: Implement Function\n",
    "    \n",
    "    lowercase = sentence.lower()\n",
    "    sentence_word_ids = [ vocab_to_int.get(word,vocab_to_int['<UNK>']) for word in lowercase.split()]\n",
    "    \n",
    "    return sentence_word_ids\n",
    "\n",
    "\n",
    "\"\"\"\n",
    "DON'T MODIFY ANYTHING IN THIS CELL THAT IS BELOW THIS LINE\n",
    "\"\"\"\n",
    "tests.test_sentence_to_seq(sentence_to_seq)"
   ]
  },
  {
   "cell_type": "markdown",
   "metadata": {},
   "source": [
    "## Translate\n",
    "This will translate `translate_sentence` from English to French."
   ]
  },
  {
   "cell_type": "code",
   "execution_count": 82,
   "metadata": {},
   "outputs": [
    {
     "name": "stdout",
     "output_type": "stream",
     "text": [
      "INFO:tensorflow:Restoring parameters from checkpoints/dev\n",
      "Input\n",
      "  Word Ids:      [85, 32, 93, 189, 177, 11, 83]\n",
      "  English Words: ['he', 'saw', 'a', 'old', 'yellow', 'truck', '.']\n",
      "\n",
      "Prediction\n",
      "  Word Ids:      [94, 184, 234, 126, 22, 330, 299, 0, 0, 0, 0, 0, 0, 0]\n",
      "  French Words: la est généralement en , mais il <PAD> <PAD> <PAD> <PAD> <PAD> <PAD> <PAD>\n"
     ]
    }
   ],
   "source": [
    "translate_sentence = 'he saw a old yellow truck .'\n",
    "\n",
    "\n",
    "\"\"\"\n",
    "DON'T MODIFY ANYTHING IN THIS CELL\n",
    "\"\"\"\n",
    "translate_sentence = sentence_to_seq(translate_sentence, source_vocab_to_int)\n",
    "\n",
    "loaded_graph = tf.Graph()\n",
    "with tf.Session(graph=loaded_graph) as sess:\n",
    "    # Load saved model\n",
    "    loader = tf.train.import_meta_graph(load_path + '.meta')\n",
    "    loader.restore(sess, load_path)\n",
    "\n",
    "    input_data = loaded_graph.get_tensor_by_name('input:0')\n",
    "    logits = loaded_graph.get_tensor_by_name('predictions:0')\n",
    "    target_sequence_length = loaded_graph.get_tensor_by_name('target_sequence_length:0')\n",
    "    source_sequence_length = loaded_graph.get_tensor_by_name('source_sequence_length:0')\n",
    "    keep_prob = loaded_graph.get_tensor_by_name('keep_prob:0')\n",
    "\n",
    "    translate_logits = sess.run(logits, {input_data: [translate_sentence]*batch_size,\n",
    "                                         target_sequence_length: [len(translate_sentence)*2]*batch_size,\n",
    "                                         source_sequence_length: [len(translate_sentence)]*batch_size,\n",
    "                                         keep_prob: 1.0})[0]\n",
    "\n",
    "print('Input')\n",
    "print('  Word Ids:      {}'.format([i for i in translate_sentence]))\n",
    "print('  English Words: {}'.format([source_int_to_vocab[i] for i in translate_sentence]))\n",
    "\n",
    "print('\\nPrediction')\n",
    "print('  Word Ids:      {}'.format([i for i in translate_logits]))\n",
    "print('  French Words: {}'.format(\" \".join([target_int_to_vocab[i] for i in translate_logits])))\n"
   ]
  },
  {
   "cell_type": "markdown",
   "metadata": {},
   "source": [
    "## Imperfect Translation\n",
    "You might notice that some sentences translate better than others.  Since the dataset you're using only has a vocabulary of 227 English words of the thousands that you use, you're only going to see good results using these words.  For this project, you don't need a perfect translation. However, if you want to create a better translation model, you'll need better data.\n",
    "\n",
    "You can train on the [WMT10 French-English corpus](http://www.statmt.org/wmt10/training-giga-fren.tar).  This dataset has more vocabulary and richer in topics discussed.  However, this will take you days to train, so make sure you've a GPU and the neural network is performing well on dataset we provided.  Just make sure you play with the WMT10 corpus after you've submitted this project.\n",
    "## Submitting This Project\n",
    "When submitting this project, make sure to run all the cells before saving the notebook. Save the notebook file as \"dlnd_language_translation.ipynb\" and save it as a HTML file under \"File\" -> \"Download as\". Include the \"helper.py\" and \"problem_unittests.py\" files in your submission."
   ]
  }
 ],
 "metadata": {
  "anaconda-cloud": {},
  "kernelspec": {
   "display_name": "Python [conda env:tensorflow]",
   "language": "python",
   "name": "conda-env-tensorflow-py"
  },
  "language_info": {
   "codemirror_mode": {
    "name": "ipython",
    "version": 3
   },
   "file_extension": ".py",
   "mimetype": "text/x-python",
   "name": "python",
   "nbconvert_exporter": "python",
   "pygments_lexer": "ipython3",
   "version": "3.5.4"
  }
 },
 "nbformat": 4,
 "nbformat_minor": 1
}
